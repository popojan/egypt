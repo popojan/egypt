{
 "cells": [
  {
   "cell_type": "code",
   "execution_count": null,
   "id": "0cb4d85d",
   "metadata": {},
   "outputs": [],
   "source": [
    "import numpy"
   ]
  },
  {
   "cell_type": "code",
   "execution_count": null,
   "id": "144353e4",
   "metadata": {},
   "outputs": [],
   "source": [
    "def ExtendedGCD(a, b):\n",
    "    if a == 0 :\n",
    "        return b, 0, 1\n",
    "    gcd, x1, y1 = ExtendedGCD(b % a, a)\n",
    "    x = y1 - (b//a) * x1\n",
    "    y = x1\n",
    "    return gcd, x, y\n",
    "\n",
    "# https://github.com/pimsp/PWS_chakravala\n",
    "\n",
    "def modinv(n,m):\n",
    "    \"\"\"Finds an x with nx + my = 1 (the inverse of n mod m), assuming that ggd(n,m)=1\"\"\"\n",
    "    x_prev = 1\n",
    "    x = 0\n",
    "    ggd_prev = n\n",
    "    ggd = abs(m)\n",
    "    while ggd!=1:\n",
    "        ratio = ggd_prev//ggd\n",
    "        x_prev,x = x,x_prev-ratio*x\n",
    "        ggd_prev,ggd = ggd,ggd_prev%ggd\n",
    "    return x%m\n",
    "\n",
    "def pell(d):\n",
    "    \"\"\"Finds the smallest positive integers a,b that fulfill Pell's equation: x**2-d*y**2=1, using the Chakravala method\"\"\"\n",
    "    a,b = int(d**0.5)+1,1\n",
    "    k = a**2-d*b**2\n",
    "    #print(a,b,k)\n",
    "    while k!=1:\n",
    "        m_0 = (-a*modinv(b,k))%k\n",
    "        m_1 = (int(d**0.5+0.5)//k)*k + m_0\n",
    "        p_1 = m_1**2-d\n",
    "        if p_1>0:\n",
    "            m_2 = m_1 - abs(k)\n",
    "        else:\n",
    "            m_2 = m_1 + abs(k)\n",
    "        p_2 = m_2**2-d\n",
    "        if abs(p_1)<abs(p_2):\n",
    "            m = m_1\n",
    "        else:\n",
    "            m = m_2\n",
    "        #print(a,b,k,m_0,m_1,p_1,m_2,p_2,m)\n",
    "        a,b,k = (a*m+d*b)//abs(k),(a+b*m)//abs(k),(m**2-d)//k\n",
    "        #print(a,b,k,a**2-d*b**2)\n",
    "    return [a,b]\n",
    "\n",
    "def fact(n):\n",
    "    if n < 2:\n",
    "        return 1\n",
    "    x = n\n",
    "    while n > 2:\n",
    "        n -= 1\n",
    "        x *= n\n",
    "    return x\n",
    "    \n",
    "def sqrtt(x, n):\n",
    "    a = [1,]\n",
    "    for j in range(1, n+1):\n",
    "        s = 1\n",
    "        for i in range(1, j+1):\n",
    "            s += 2**(i-1)*fact(j+i)//fact(j-i)//fact(2*i)*(x**i)\n",
    "        a.append(s)\n",
    "    return a"
   ]
  },
  {
   "cell_type": "code",
   "execution_count": null,
   "id": "de90a7f0",
   "metadata": {},
   "outputs": [],
   "source": [
    "pell(13)"
   ]
  },
  {
   "cell_type": "code",
   "execution_count": null,
   "id": "e7b8f097",
   "metadata": {},
   "outputs": [],
   "source": [
    "sqrtt(2, 10)"
   ]
  },
  {
   "cell_type": "code",
   "execution_count": null,
   "id": "abd01e60",
   "metadata": {},
   "outputs": [],
   "source": [
    "x, y = pell(19)\n",
    "x, y"
   ]
  },
  {
   "cell_type": "code",
   "execution_count": null,
   "id": "bb9ec722",
   "metadata": {},
   "outputs": [],
   "source": [
    "n = 7\n",
    "gcd = ExtendedGCD(x-1, y)[0]\n",
    "\n",
    "a = sqrtt(x-1, n)\n",
    "\n",
    "sqrt_19_approx = numpy.float128(\n",
    "    (x-1)//gcd\n",
    ") / numpy.float128(y//gcd)*numpy.sum(\n",
    "          numpy.float128(1.0)\n",
    "        / numpy.array(a, dtype=numpy.float128)\n",
    ")"
   ]
  },
  {
   "cell_type": "code",
   "execution_count": null,
   "id": "457df998",
   "metadata": {},
   "outputs": [],
   "source": [
    "((x-1)//gcd, y//gcd), a"
   ]
  },
  {
   "cell_type": "code",
   "execution_count": null,
   "id": "36625d81",
   "metadata": {},
   "outputs": [],
   "source": [
    "sqrt_19_f128 = numpy.sqrt(numpy.float128(19))"
   ]
  },
  {
   "cell_type": "code",
   "execution_count": null,
   "id": "f5b08ef2",
   "metadata": {},
   "outputs": [],
   "source": [
    "\"%e\" % (sqrt_19_f128 - sqrt_19_approx)"
   ]
  }
 ],
 "metadata": {
  "kernelspec": {
   "display_name": "Python 3 (ipykernel)",
   "language": "python",
   "name": "python3"
  },
  "language_info": {
   "codemirror_mode": {
    "name": "ipython",
    "version": 3
   },
   "file_extension": ".py",
   "mimetype": "text/x-python",
   "name": "python",
   "nbconvert_exporter": "python",
   "pygments_lexer": "ipython3",
   "version": "3.11.6"
  }
 },
 "nbformat": 4,
 "nbformat_minor": 5
}
