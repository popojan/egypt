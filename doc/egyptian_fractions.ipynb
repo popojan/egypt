{
 "cells": [
  {
   "cell_type": "markdown",
   "id": "synthetic-timber",
   "metadata": {},
   "source": [
    "# Egyptian Fractions\n",
    "\n",
    "with small denominators\n",
    "\n",
    "* minimizes sum of denominator factors?\n",
    "* compare with Wolfram Alpha: https://www.wolframalpha.com/input?i=egyptian+fraction+2023%2F2024"
   ]
  },
  {
   "cell_type": "code",
   "execution_count": 1,
   "id": "rubber-germany",
   "metadata": {},
   "outputs": [],
   "source": [
    "def ExtendedGCD(a, b):\n",
    "    if a == 0 :\n",
    "        return b, 0, 1\n",
    "    gcd, x1, y1 = ExtendedGCD(b % a, a)\n",
    "    x = y1 - (b//a) * x1\n",
    "    y = x1\n",
    "    return gcd, x, y\n",
    "\n",
    "def Low(x, y):\n",
    "    b = x if y - x == 1 else (ExtendedGCD(x, y)[1] + y) % y\n",
    "    a, b = round(x * b / y), b\n",
    "    gcd = ExtendedGCD(a, b)[0]\n",
    "    return a//gcd, b//gcd\n",
    "\n",
    "def EgyptPrime_raw(x, y):\n",
    "    whole = []\n",
    "    ret = []\n",
    "    if x >= y:\n",
    "        whole.append((x//y, 1))\n",
    "        x = x-(x//y)*y\n",
    "    while x > 1:\n",
    "        x2, y2 = Low(x, y)\n",
    "        a, b = x*y2-x2*y, y*y2\n",
    "        gcd = ExtendedGCD(a, b)[0]\n",
    "        a, b = a//gcd, b//gcd\n",
    "        ret.append((a, b))\n",
    "        x, y = x2, y2\n",
    "    ret = reversed(ret + [(x, y)] + whole)\n",
    "    return list(ret)\n",
    "\n",
    "def Merge(eg):\n",
    "    i = 0\n",
    "    ret = []\n",
    "    while i < len(eg):\n",
    "        x, y = eg[i]\n",
    "        ones = [(i, x, y)]\n",
    "        for j in range(i+1, len(eg)):\n",
    "            x2, y2 = eg[j]\n",
    "            x, y = x*y2+x2*y, y*y2\n",
    "            gcd = ExtendedGCD(x, y)[0]\n",
    "            x, y = x//gcd, y//gcd\n",
    "            if x == 1:\n",
    "                ones.append((j, x, y))\n",
    "        j, x, y = ones[-1]\n",
    "        ret.append((x, y))\n",
    "        i = j+1\n",
    "    return ret\n",
    "\n",
    "def EgyptPrime(x, y):\n",
    "    return Merge(EgyptPrime_raw(x, y))"
   ]
  },
  {
   "cell_type": "code",
   "execution_count": 2,
   "id": "parliamentary-victorian",
   "metadata": {},
   "outputs": [
    {
     "name": "stdout",
     "output_type": "stream",
     "text": [
      "CPU times: user 20.4 ms, sys: 932 µs, total: 21.4 ms\n",
      "Wall time: 21.1 ms\n"
     ]
    },
    {
     "data": {
      "text/plain": [
       "[(1, 2), (1, 3), (1, 7), (1, 43), (1, 18447), (1, 184184)]"
      ]
     },
     "execution_count": 2,
     "metadata": {},
     "output_type": "execute_result"
    }
   ],
   "source": [
    "%%time\n",
    "EgyptPrime(2023, 2024)"
   ]
  },
  {
   "cell_type": "code",
   "execution_count": 3,
   "id": "digital-wesley",
   "metadata": {},
   "outputs": [
    {
     "name": "stdout",
     "output_type": "stream",
     "text": [
      "CPU times: user 198 ms, sys: 2.03 ms, total: 200 ms\n",
      "Wall time: 199 ms\n"
     ]
    },
    {
     "data": {
      "text/plain": [
       "[(1, 2),\n",
       " (1, 3),\n",
       " (1, 7),\n",
       " (1, 43),\n",
       " (1, 2002),\n",
       " (1, 811668),\n",
       " (1, 13722852),\n",
       " (1, 89340303),\n",
       " (1, 714892578)]"
      ]
     },
     "execution_count": 3,
     "metadata": {},
     "output_type": "execute_result"
    }
   ],
   "source": [
    "%%time\n",
    "EgyptPrime(37811, 37813)"
   ]
  }
 ],
 "metadata": {
  "kernelspec": {
   "display_name": "Python 3 (ipykernel)",
   "language": "python",
   "name": "python3"
  },
  "language_info": {
   "codemirror_mode": {
    "name": "ipython",
    "version": 3
   },
   "file_extension": ".py",
   "mimetype": "text/x-python",
   "name": "python",
   "nbconvert_exporter": "python",
   "pygments_lexer": "ipython3",
   "version": "3.11.3"
  }
 },
 "nbformat": 4,
 "nbformat_minor": 5
}
