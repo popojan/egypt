{
 "cells": [
  {
   "cell_type": "markdown",
   "id": "synthetic-timber",
   "metadata": {},
   "source": [
    "# Egyptian Fractions\n",
    "\n",
    "with small denominators"
   ]
  },
  {
   "cell_type": "code",
   "execution_count": null,
   "id": "089c22d8",
   "metadata": {},
   "outputs": [],
   "source": [
    "import itertools"
   ]
  },
  {
   "cell_type": "code",
   "execution_count": null,
   "id": "rubber-germany",
   "metadata": {},
   "outputs": [],
   "source": [
    "def ExtendedGCD(a, b):\n",
    "    if a == 0 :\n",
    "        return b, 0, 1\n",
    "    gcd, x1, y1 = ExtendedGCD(b % a, a)\n",
    "    x = y1 - (b//a) * x1\n",
    "    y = x1\n",
    "    return gcd, x, y\n",
    "\n",
    "def Low(x, y):\n",
    "    b = x if y - x == 1 else (ExtendedGCD(x, y)[1] + y) % y\n",
    "    a, b = x * b // y, b\n",
    "    gcd = ExtendedGCD(a, b)[0]\n",
    "    return a//gcd, b//gcd\n",
    "\n",
    "def EgyptFract_raw(x, y):\n",
    "    whole = []\n",
    "    ret = []\n",
    "    if x >= y:\n",
    "        whole.append((x//y, 1))\n",
    "        x = x-(x//y)*y\n",
    "    while x > 1:\n",
    "        x2, y2 = Low(x, y)\n",
    "        a, b = x*y2-x2*y, y*y2\n",
    "        gcd = ExtendedGCD(a, b)[0]\n",
    "        #print(x, y, x2, y2, a, b)\n",
    "        a, b = a//gcd, b//gcd\n",
    "        ret.append((a, b))\n",
    "        x, y = x2, y2\n",
    "    ret = ret + [(x, y)] + whole\n",
    "    return list(ret)\n",
    "\n",
    "def Merge(eg):\n",
    "    i = 0\n",
    "    ret = []\n",
    "    while i < len(eg):\n",
    "        x, y = eg[i]\n",
    "        ones = [(i, x, y)]\n",
    "        for j in range(i+1, len(eg)):\n",
    "            x2, y2 = eg[j]\n",
    "            x, y = x*y2+x2*y, y*y2\n",
    "            gcd = ExtendedGCD(x, y)[0]\n",
    "            x, y = x//gcd, y//gcd\n",
    "            if x == 1:\n",
    "                ones.append((j, x, y))\n",
    "        j, x, y = ones[-1]\n",
    "        ret.append((x, y))\n",
    "        i = j+1\n",
    "    ret.sort()\n",
    "    return ret\n",
    "\n",
    "def EgyptFract(x, y):\n",
    "    return Merge(EgyptFract_raw(x, y))"
   ]
  },
  {
   "cell_type": "code",
   "execution_count": null,
   "id": "parliamentary-victorian",
   "metadata": {},
   "outputs": [],
   "source": [
    "%%time\n",
    "\n",
    "EgyptFract(2023,2024)"
   ]
  },
  {
   "cell_type": "code",
   "execution_count": null,
   "id": "digital-wesley",
   "metadata": {},
   "outputs": [],
   "source": [
    "%%time\n",
    "\n",
    "EgyptFract(37811, 37813)"
   ]
  },
  {
   "cell_type": "code",
   "execution_count": null,
   "id": "c113ddf8",
   "metadata": {},
   "outputs": [],
   "source": [
    "%%time\n",
    "\n",
    "EgyptFract(2000002, 2000003)"
   ]
  }
 ],
 "metadata": {
  "kernelspec": {
   "display_name": "Python 3 (ipykernel)",
   "language": "python",
   "name": "python3"
  },
  "language_info": {
   "codemirror_mode": {
    "name": "ipython",
    "version": 3
   },
   "file_extension": ".py",
   "mimetype": "text/x-python",
   "name": "python",
   "nbconvert_exporter": "python",
   "pygments_lexer": "ipython3",
   "version": "3.11.6"
  }
 },
 "nbformat": 4,
 "nbformat_minor": 5
}
